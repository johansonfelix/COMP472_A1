{
 "cells": [
  {
   "cell_type": "code",
   "execution_count": 244,
   "metadata": {
    "scrolled": true
   },
   "outputs": [
    {
     "data": {
      "image/png": "[encoded data removed]",
      "text/plain": [
       "<Figure size 720x360 with 1 Axes>"
      ]
     },
     "metadata": {
      "needs_background": "light"
     },
     "output_type": "display_data"
    }
   ],
   "source": [
    "from codecs import open\n",
    "from __future__ import division\n",
    "from sklearn.feature_extraction.text import CountVectorizer\n",
    "import matplotlib.pyplot as plt\n",
    "\n",
    "def read_documents(doc_file):\n",
    "    docs = []\n",
    "    labels = []\n",
    "    with open(doc_file, encoding='utf-8') as f:\n",
    "        for line in f:\n",
    "            words = line.strip().split()\n",
    "            docs.append(\" \".join(words[3:]))\n",
    "            labels.append(words[1])\n",
    "    return docs, labels\n",
    "\n",
    "all_docs, all_labels = read_documents('all_sentiment_shuffled.txt')\n",
    "\n",
    "split_point = int(0.80*len(all_docs))\n",
    "train_docs = all_docs[:split_point]\n",
    "train_labels = all_labels[:split_point]\n",
    "eval_docs = all_docs[split_point:]\n",
    "eval_labels = all_labels[split_point:]\n",
    "\n",
    "vectorizer = CountVectorizer()\n",
    "train_docs_vector = vectorizer.fit_transform(train_docs)\n",
    "eval_docs_vector = vectorizer.transform(eval_docs)\n",
    "\n",
    "data = {'pos':all_labels.count(\"pos\"), 'neg':all_labels.count(\"neg\")} \n",
    "ratings = list(data.keys()) \n",
    "counts = list(data.values()) \n",
    "\n",
    "fig = plt.figure(figsize = (10, 5))\n",
    "plt.bar(ratings, counts)\n",
    "plt.show()\n"
   ]
  },
  {
   "cell_type": "code",
   "execution_count": 234,
   "metadata": {},
   "outputs": [
    {
     "data": {
      "text/plain": [
       "45"
      ]
     },
     "execution_count": 234,
     "metadata": {},
     "output_type": "execute_result"
    }
   ],
   "source": [
    "from sklearn.naive_bayes import MultinomialNB\n",
    "from sklearn.metrics import precision_score\n",
    "from sklearn.metrics import recall_score\n",
    "from sklearn.metrics import f1_score\n",
    "from sklearn.metrics import accuracy_score\n",
    "from sklearn.metrics import confusion_matrix\n",
    "\n",
    "clf = MultinomialNB().fit(train_docs_vector, train_labels)\n",
    "prediction_naive = clf.predict(eval_docs_vector)\n",
    "\n",
    "naive_cm = confusion_matrix(eval_labels, prediction_naive)\n",
    "naive_ps = precision_score(eval_labels, prediction_naive, average='weighted')\n",
    "naive_rs = recall_score(eval_labels, prediction_naive, average='weighted')\n",
    "naive_f1 = f1_score(eval_labels, prediction_naive, average='weighted')\n",
    "naive_accuracy = accuracy_score(eval_labels, prediction_naive, normalize=True)\n",
    "\n",
    "f = open(\"Naive Bayes - all_sentiment_shuffled.txt\", \"w\")\n",
    "sp_inc = split_point \n",
    "for x in prediction_naive:\n",
    "    f.write(f\"{sp_inc}, {x}\\n\")\n",
    "    sp_inc += 1\n",
    "    \n",
    "f.write(\"\\nConfusion Matrix for Naive Bayes: \" + str(naive_cm))\n",
    "f.write(\"\\nPrecision Score for Naive Bayes: \" + str(naive_ps))\n",
    "f.write(\"\\nRecall Score for Naive Bayes: \" + str(naive_rs))\n",
    "f.write(\"\\nf1-measure for Naive Bayes: \" + str(naive_f1))\n",
    "f.write(\"\\nAccuracy for Naive Bayes: \" + str(naive_accuracy))\n"
   ]
  },
  {
   "cell_type": "code",
   "execution_count": 235,
   "metadata": {},
   "outputs": [
    {
     "data": {
      "text/plain": [
       "44"
      ]
     },
     "execution_count": 235,
     "metadata": {},
     "output_type": "execute_result"
    }
   ],
   "source": [
    "from sklearn.tree import DecisionTreeClassifier\n",
    "from sklearn.metrics import precision_score\n",
    "from sklearn.metrics import recall_score\n",
    "from sklearn.metrics import f1_score\n",
    "from sklearn.metrics import accuracy_score\n",
    "from sklearn.metrics import confusion_matrix\n",
    "\n",
    "clf = DecisionTreeClassifier(criterion='entropy')\n",
    "clf.fit(train_docs_vector, train_labels)\n",
    "prediction_base = clf.predict(eval_docs_vector)\n",
    "\n",
    "naive_cm = confusion_matrix(eval_labels, prediction_base)\n",
    "naive_ps = precision_score(eval_labels, prediction_base, average='weighted')\n",
    "naive_rs = recall_score(eval_labels, prediction_base, average='weighted')\n",
    "naive_f1 = f1_score(eval_labels, prediction_base, average='weighted')\n",
    "naive_accuracy = accuracy_score(eval_labels, prediction_base, normalize=True)\n",
    "\n",
    "f = open(\"Base-DT - all_sentiment_shuffled.txt\", \"w\")\n",
    "sp_inc = split_point \n",
    "for x in prediction_base:\n",
    "    f.write(f\"{sp_inc}, {x}\\n\")\n",
    "    sp_inc += 1\n",
    "    \n",
    "f.write(\"\\nConfusion Matrix for Naive Bayes: \" + str(naive_cm))\n",
    "f.write(\"\\nPrecision Score for Naive Bayes: \" + str(naive_ps))\n",
    "f.write(\"\\nRecall Score for Naive Bayes: \" + str(naive_rs))\n",
    "f.write(\"\\nf1-measure for Naive Bayes: \" + str(naive_f1))\n",
    "f.write(\"\\nAccuracy for Naive Bayes: \" + str(naive_accuracy))"
   ]
  },
  {
   "cell_type": "code",
   "execution_count": 236,
   "metadata": {},
   "outputs": [
    {
     "data": {
      "text/plain": [
       "45"
      ]
     },
     "execution_count": 236,
     "metadata": {},
     "output_type": "execute_result"
    }
   ],
   "source": [
    "from sklearn.tree import DecisionTreeClassifier\n",
    "from sklearn.metrics import precision_score\n",
    "from sklearn.metrics import recall_score\n",
    "from sklearn.metrics import f1_score\n",
    "from sklearn.metrics import accuracy_score\n",
    "from sklearn.metrics import confusion_matrix\n",
    "\n",
    "clf = DecisionTreeClassifier(criterion = 'gini', splitter = 'best')\n",
    "clf.fit(train_docs_vector, train_labels)\n",
    "prediction_best = clf.predict(eval_docs_vector)\n",
    "\n",
    "naive_cm = confusion_matrix(eval_labels, prediction_best)\n",
    "naive_ps = precision_score(eval_labels, prediction_best, average='weighted')\n",
    "naive_rs = recall_score(eval_labels, prediction_best, average='weighted')\n",
    "naive_f1 = f1_score(eval_labels, prediction_best, average='weighted')\n",
    "naive_accuracy = accuracy_score(eval_labels, prediction_best, normalize=True)\n",
    "\n",
    "f = open(\"Best-DT - all_sentiment_shuffled.txt\", \"w\")\n",
    "sp_inc = split_point \n",
    "for x in prediction_best:\n",
    "    f.write(f\"{sp_inc}, {x}\\n\")\n",
    "    sp_inc += 1\n",
    "\n",
    "f.write(\"\\nConfusion Matrix for Naive Bayes: \" + str(naive_cm))\n",
    "f.write(\"\\nPrecision Score for Naive Bayes: \" + str(naive_ps))\n",
    "f.write(\"\\nRecall Score for Naive Bayes: \" + str(naive_rs))\n",
    "f.write(\"\\nf1-measure for Naive Bayes: \" + str(naive_f1))\n",
    "f.write(\"\\nAccuracy for Naive Bayes: \" + str(naive_accuracy))"
   ]
  },
  {
   "cell_type": "code",
   "execution_count": 241,
   "metadata": {},
   "outputs": [
    {
     "name": "stdout",
     "output_type": "stream",
     "text": [
      "[9502, 9505, 9515, 9517, 9522, 9530, 9540, 9541, 9543, 9546, 9548, 9556, 9558, 9569, 9570, 9572, 9573, 9581, 9584, 9585, 9589, 9592, 9594, 9623, 9627, 9628, 9629, 9633, 9641, 9644, 9646, 9652, 9655, 9657, 9660, 9665, 9681, 9689, 9692, 9694, 9699, 9700, 9703, 9704, 9705, 9711, 9757, 9762, 9767, 9772, 9803, 9806, 9815, 9819, 9831, 9835, 9836, 9839, 9840, 9848, 9849, 9853, 9856, 9858, 9873, 9876, 9882, 9886, 9888, 9890, 9893, 9897, 9904, 9909, 9920, 9943, 9945, 9946, 9947, 9951, 9954, 9964, 9967, 9978, 9979, 9999, 10001, 10003, 10004, 10011, 10014, 10021, 10026, 10028, 10035, 10049, 10052, 10055, 10057, 10060, 10063, 10072, 10074, 10076, 10077, 10080, 10083, 10090, 10092, 10099, 10101, 10103, 10107, 10110, 10113, 10125, 10127, 10131, 10141, 10148, 10161, 10175, 10176, 10177, 10180, 10185, 10189, 10195, 10197, 10204, 10207, 10208, 10209, 10261, 10263, 10264, 10265, 10266, 10271, 10273, 10276, 10277, 10303, 10313, 10319, 10330, 10332, 10335, 10337, 10344, 10354, 10355, 10363, 10369, 10372, 10377, 10378, 10380, 10385, 10386, 10391, 10392, 10394, 10403, 10405, 10406, 10407, 10408, 10410, 10433, 10435, 10443, 10444, 10458, 10469, 10470, 10480, 10487, 10491, 10492, 10500, 10503, 10505, 10506, 10515, 10535, 10546, 10550, 10551, 10559, 10564, 10580, 10587, 10594, 10609, 10612, 10614, 10622, 10623, 10634, 10643, 10645, 10659, 10668, 10672, 10678, 10680, 10682, 10690, 10695, 10698, 10700, 10710, 10722, 10723, 10750, 10753, 10756, 10757, 10759, 10760, 10763, 10766, 10768, 10769, 10787, 10788, 10789, 10815, 10818, 10824, 10825, 10834, 10840, 10843, 10863, 10864, 10869, 10874, 10877, 10886, 10890, 10893, 10900, 10904, 10909, 10910, 10911, 10914, 10926, 10927, 10928, 10943, 10944, 10950, 10961, 10965, 10973, 10990, 11009, 11010, 11011, 11014, 11020, 11022, 11026, 11038, 11042, 11043, 11048, 11059, 11062, 11063, 11067, 11069, 11078, 11080, 11082, 11085, 11089, 11092, 11098, 11104, 11115, 11117, 11129, 11138, 11139, 11142, 11144, 11145, 11147, 11150, 11152, 11157, 11158, 11164, 11181, 11183, 11185, 11194, 11195, 11213, 11214, 11215, 11216, 11228, 11231, 11233, 11234, 11245, 11248, 11250, 11255, 11258, 11271, 11272, 11287, 11301, 11311, 11312, 11317, 11322, 11326, 11327, 11337, 11344, 11355, 11361, 11365, 11367, 11376, 11378, 11387, 11395, 11402, 11406, 11413, 11420, 11434, 11445, 11446, 11449, 11465, 11470, 11471, 11477, 11479, 11485, 11494, 11510, 11511, 11514, 11515, 11516, 11520, 11523, 11526, 11533, 11538, 11548, 11553, 11561, 11565, 11577, 11581, 11589, 11592, 11593, 11595, 11600, 11601, 11603, 11610, 11611, 11615, 11616, 11619, 11620, 11621, 11624, 11629, 11630, 11632, 11635, 11637, 11644, 11653, 11663, 11665, 11666, 11680, 11683, 11690, 11697, 11698, 11700, 11712, 11713, 11720, 11723, 11727, 11734, 11738, 11741, 11755, 11757, 11759, 11766, 11773, 11777, 11778, 11785, 11793, 11796, 11801, 11803, 11811, 11813, 11825, 11826, 11829, 11843, 11851, 11853, 11862, 11868]\n"
     ]
    }
   ],
   "source": [
    "error_list = list()\n",
    "\n",
    "for i in range(len(eval_labels)):\n",
    "    if prediction_naive[i] != eval_labels[i]:\n",
    "        error_list.append(i + split_point)\n",
    "\n",
    "# you may select a few short documents where the probabilities were particularly high in the wrong\n",
    "# direction.\n",
    "\n",
    "print(error_list)\n"
   ]
  }
 ],
 "metadata": {
  "kernelspec": {
   "display_name": "Python 3",
   "language": "python",
   "name": "python3"
  },
  "language_info": {
   "codemirror_mode": {
    "name": "ipython",
    "version": 3
   },
   "file_extension": ".py",
   "mimetype": "text/x-python",
   "name": "python",
   "nbconvert_exporter": "python",
   "pygments_lexer": "ipython3",
   "version": "3.8.5"
  }
 },
 "nbformat": 4,
 "nbformat_minor": 4
}
